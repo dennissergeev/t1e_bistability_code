{
 "cells": [
  {
   "cell_type": "markdown",
   "id": "35f20839-60b7-4be8-9ff9-6caaf7f0119d",
   "metadata": {},
   "source": [
    "# Figure 9"
   ]
  },
  {
   "cell_type": "markdown",
   "id": "b43a5405-db85-4c94-bfe5-4235334539ae",
   "metadata": {},
   "source": [
    "[Skip code and jump to the figure](#Show-the-figure)\n",
    "\n",
    "----------------------------------"
   ]
  },
  {
   "cell_type": "code",
   "execution_count": 1,
   "id": "0a0a24d3-8036-4e62-aeea-dddbd3f5daf5",
   "metadata": {},
   "outputs": [],
   "source": [
    "import warnings\n",
    "\n",
    "warnings.filterwarnings(\"ignore\")  # noqa"
   ]
  },
  {
   "cell_type": "code",
   "execution_count": 2,
   "id": "22658a0f-21eb-49ec-ac55-a62b4853d12f",
   "metadata": {},
   "outputs": [],
   "source": [
    "# Scientific and datavis stack\n",
    "import iris\n",
    "import matplotlib.pyplot as plt\n",
    "import numpy as np"
   ]
  },
  {
   "cell_type": "code",
   "execution_count": 3,
   "id": "7e27ec87-44bb-45ab-b762-b48b85f6db9c",
   "metadata": {},
   "outputs": [],
   "source": [
    "# My packages\n",
    "from aeolus.calc import div_h, integrate, meridional_mean, time_mean, zonal_mean\n",
    "from aeolus.const import add_planet_conf_to_cubes, init_const\n",
    "from aeolus.core import AtmoSim\n",
    "from aeolus.io import load_data\n",
    "from aeolus.meta import const_from_attrs, preserve_shape\n",
    "from aeolus.model import um\n",
    "from aeolus.plot import add_custom_legend, subplot_label_generator\n",
    "from pouch.clim_diag import calc_derived_cubes, moist_static_energy\n",
    "from pouch.plot import (\n",
    "    KW_MAIN_TTL,\n",
    "    KW_SBPLT_LABEL,\n",
    "    KW_ZERO_LINE,\n",
    "    XLOCS,\n",
    "    figsave,\n",
    "    use_style,\n",
    ")"
   ]
  },
  {
   "cell_type": "code",
   "execution_count": 4,
   "id": "e6cf647c-573b-4e1f-a08d-9df5b04b3dd7",
   "metadata": {},
   "outputs": [],
   "source": [
    "# Local modules\n",
    "import mypaths\n",
    "from commons import GLM_SUITE_ID, SIM_LABELS"
   ]
  },
  {
   "cell_type": "markdown",
   "id": "80daa664-a1fd-4989-a1bd-508a51c02553",
   "metadata": {},
   "source": [
    "Apply custom matplotlib style sheet."
   ]
  },
  {
   "cell_type": "code",
   "execution_count": 5,
   "id": "17deabe2-706c-4159-a266-3ede6370dc6a",
   "metadata": {},
   "outputs": [],
   "source": [
    "use_style()"
   ]
  },
  {
   "cell_type": "markdown",
   "id": "bfd0a54e-1f08-46d0-b604-f14975dd2c11",
   "metadata": {},
   "source": [
    "## Load model data from the two key experiments"
   ]
  },
  {
   "cell_type": "markdown",
   "id": "d93aa9c8-0238-46db-8b23-c548f2072743",
   "metadata": {},
   "source": [
    "Define paths to input data and results."
   ]
  },
  {
   "cell_type": "code",
   "execution_count": 6,
   "id": "b1f5239e-d03e-4164-bb1a-236b7f7d76b9",
   "metadata": {},
   "outputs": [],
   "source": [
    "img_prefix = f\"{GLM_SUITE_ID}_mean\"\n",
    "inp_dir = mypaths.sadir / f\"{GLM_SUITE_ID}_mean\"\n",
    "# time_prof = \"mean_days6000_9950\"\n",
    "plotdir = mypaths.plotdir / img_prefix"
   ]
  },
  {
   "cell_type": "markdown",
   "id": "9fccb9d3-60e3-42cd-adf9-119c0a647c37",
   "metadata": {},
   "source": [
    "Load processed data."
   ]
  },
  {
   "cell_type": "code",
   "execution_count": null,
   "id": "acc8b712-8d77-48d3-98f3-fedd6ce9b4c2",
   "metadata": {},
   "outputs": [],
   "source": [
    "runs = {}\n",
    "for sim_label, sim_prop in SIM_LABELS.items():\n",
    "    planet = sim_prop[\"planet\"]\n",
    "    const = init_const(planet, directory=mypaths.constdir)\n",
    "    if sim_label == \"base\":\n",
    "        time_prof = \"mean_days6000_9950\"\n",
    "    elif sim_label == \"sens-noradcld\":\n",
    "        time_prof = \"mean_days2000_2200\"\n",
    "    else:\n",
    "        time_prof = \"mean_days2000_2950\"\n",
    "    cl = load_data(\n",
    "        files=inp_dir / f\"{GLM_SUITE_ID}_{sim_label}_{time_prof}.nc\",\n",
    "    )\n",
    "\n",
    "    add_planet_conf_to_cubes(cl, const)\n",
    "    # Use the cube list to initialise an AtmoSim object\n",
    "    calc_derived_cubes(cl, const=const)\n",
    "    runs[sim_label] = AtmoSim(\n",
    "        cl,\n",
    "        name=sim_label,\n",
    "        planet=planet,\n",
    "        const_dir=mypaths.constdir,\n",
    "        timestep=cl[0].attributes[\"timestep\"],\n",
    "        model=um,\n",
    "    )"
   ]
  },
  {
   "cell_type": "markdown",
   "id": "194e2f91-8b08-4fad-b5f1-ea33ec91913a",
   "metadata": {},
   "source": [
    "## Choose variables and perform calculations needed"
   ]
  },
  {
   "cell_type": "markdown",
   "id": "43920965-5730-4bd9-a307-652e09669f5e",
   "metadata": {},
   "source": [
    "Set display settings for the chosen variables."
   ]
  },
  {
   "cell_type": "code",
   "execution_count": null,
   "id": "dfe61018-6c3a-4dd1-8f0b-44a30bf04a34",
   "metadata": {},
   "outputs": [],
   "source": [
    "WIND_CMPNT_META = {\n",
    "    \"total\": {\"title\": \"Total\", \"qk_ref_wspd\": 60, \"kw_plt\": dict(color=\"#222222\")},\n",
    "    \"div\": {\"title\": \"Divergent\", \"qk_ref_wspd\": 10, \"kw_plt\": dict(color=\"tab:blue\")},\n",
    "    \"rot\": {\n",
    "        \"title\": \"Rotational\",\n",
    "        \"qk_ref_wspd\": 60,\n",
    "        \"kw_plt\": dict(color=\"tab:brown\"),\n",
    "    },\n",
    "}"
   ]
  },
  {
   "cell_type": "markdown",
   "id": "d60adedf-8782-4117-a609-5ac9f1e4a26d",
   "metadata": {},
   "source": [
    "$\\rho$ inside the Helmholtz decomposition"
   ]
  },
  {
   "cell_type": "code",
   "execution_count": null,
   "id": "190425d8-75f0-497a-8c10-539066ae420c",
   "metadata": {},
   "outputs": [],
   "source": [
    "@const_from_attrs()\n",
    "def wind_rot_div_with_rho(\n",
    "    u, v, rho, opt=\"residual\", truncation=None, const=None, model=um\n",
    "):\n",
    "    \"\"\"Rho-weighted Helmholtz decomposition.\"\"\"\n",
    "    from windspharm.iris import VectorWind\n",
    "\n",
    "    vec = VectorWind(u * rho, v * rho, rsphere=const.radius.data)\n",
    "    div_cmpnt_u, div_cmpnt_v, rot_cmpnt_u, rot_cmpnt_v = vec.helmholtz(\n",
    "        truncation=truncation\n",
    "    )\n",
    "    out = {}\n",
    "    out[\"u_total\"] = u\n",
    "    out[\"v_total\"] = v\n",
    "    out[\"u_div\"] = iris.util.reverse(div_cmpnt_u, model.y) / rho\n",
    "    out[\"u_div\"].units = u.units\n",
    "    out[\"v_div\"] = iris.util.reverse(div_cmpnt_v, model.y) / rho\n",
    "    out[\"v_div\"].units = v.units\n",
    "    if opt == \"residual\":\n",
    "        out[\"u_rot\"] = u - out[\"u_div\"]\n",
    "        out[\"v_rot\"] = v - out[\"v_div\"]\n",
    "    elif opt == \"separate\":\n",
    "        out[\"u_rot\"] = iris.util.reverse(rot_cmpnt_u, model.y) / rho\n",
    "        out[\"u_rot\"].units = u.units\n",
    "        out[\"v_rot\"] = iris.util.reverse(rot_cmpnt_v, model.y) / rho\n",
    "        out[\"v_rot\"].units = v.units\n",
    "    for cmpnt in [\"u\", \"v\"]:\n",
    "        rot_cmpnt = out[f\"{cmpnt}_rot\"]\n",
    "        out[f\"{cmpnt}_rot_zm\"] = preserve_shape(zonal_mean)(rot_cmpnt)\n",
    "        out[f\"{cmpnt}_rot_zm\"].rename(f\"zonal_mean_of_{rot_cmpnt.name()}\")\n",
    "        out[f\"{cmpnt}_rot_eddy\"] = rot_cmpnt - out[f\"{cmpnt}_rot_zm\"]\n",
    "        out[f\"{cmpnt}_rot_eddy\"].rename(f\"zonal_deviation_of_{rot_cmpnt.name()}\")\n",
    "    return out"
   ]
  },
  {
   "cell_type": "markdown",
   "id": "010f89c6-5be3-4547-86ad-73a21e859823",
   "metadata": {},
   "source": [
    "Local function to calculate vertical integrals of the MSE flux divergence components."
   ]
  },
  {
   "cell_type": "code",
   "execution_count": null,
   "id": "1128f6f1-3ea6-43f4-ba90-e7bf1030e094",
   "metadata": {},
   "outputs": [],
   "source": [
    "@const_from_attrs()\n",
    "def flux_div_h_int_v(\n",
    "    flux_x,\n",
    "    flux_y,\n",
    "    rho=None,\n",
    "    const=None,\n",
    "    truncation=None,\n",
    "    weight_opt=None,\n",
    "    div_opt=\"finite_diff\",\n",
    "    model=um,\n",
    "):\n",
    "    \"\"\"Vertical integral of the horizontal flux divergence.\"\"\"\n",
    "    from cf_units import Unit\n",
    "\n",
    "    if weight_opt in [\"before\", \"after\"] and rho is None:\n",
    "        raise ValueError(\"Weights (rho) are not supplied.\")\n",
    "\n",
    "    if weight_opt == \"before\":\n",
    "        flux_x *= rho\n",
    "        flux_y *= rho\n",
    "    if div_opt == \"spectral\":\n",
    "        from windspharm.iris import VectorWind\n",
    "\n",
    "        vec = VectorWind(flux_x, flux_y, rsphere=const.radius.data)\n",
    "        hdiv = vec.divergence(truncation=truncation)\n",
    "        hdiv.units = flux_y.units / Unit(\"m\")\n",
    "    elif div_opt == \"finite_diff\":\n",
    "        hdiv = div_h(flux_x, flux_y, model=model)\n",
    "        hdiv.convert_units(flux_y.units / Unit(\"m\"))\n",
    "    if weight_opt == \"after\":\n",
    "        hdiv *= rho\n",
    "    out = integrate(hdiv, model.z)\n",
    "    out = meridional_mean(out)\n",
    "    return out"
   ]
  },
  {
   "cell_type": "markdown",
   "id": "dd9603f3-4a2f-4772-8497-12101d095896",
   "metadata": {},
   "source": [
    "Store results in a `RESULTS` dictionary for each of the experiments."
   ]
  },
  {
   "cell_type": "code",
   "execution_count": null,
   "id": "5b9366c6-0aa2-4ad5-99be-97eb969a5bc6",
   "metadata": {},
   "outputs": [],
   "source": [
    "RESULTS = {}\n",
    "for sim_label in SIM_LABELS.keys():\n",
    "    RESULTS[sim_label] = {}\n",
    "\n",
    "    the_run = runs[sim_label]\n",
    "    RESULTS[sim_label][\"lons\"] = the_run.coord.x.points\n",
    "\n",
    "    u = time_mean(the_run.u)\n",
    "    v = time_mean(the_run.v)\n",
    "    rho = time_mean(the_run.dens)\n",
    "    RESULTS[sim_label][\"toa_net\"] = meridional_mean(time_mean(the_run.toa_net_energy))\n",
    "\n",
    "    wind_cmpnts = wind_rot_div_with_rho(u, v, rho, opt=\"residual\")\n",
    "    mse_cmpnts = {\n",
    "        k: time_mean(val) for k, val in moist_static_energy(the_run._cubes).items()\n",
    "    }\n",
    "\n",
    "    # mse_hdiv_cmpnts = {}\n",
    "    for mse_key, cmpnt in mse_cmpnts.items():\n",
    "        RESULTS[sim_label][mse_key] = {}\n",
    "        for wind_key, _ in WIND_CMPNT_META.items():\n",
    "            u_cmpnt, v_cmpnt = (\n",
    "                wind_cmpnts[f\"u_{wind_key}\"],\n",
    "                wind_cmpnts[f\"v_{wind_key}\"],\n",
    "            )\n",
    "            f_x = u_cmpnt * cmpnt\n",
    "            f_y = v_cmpnt * cmpnt\n",
    "            RESULTS[sim_label][mse_key][wind_key] = flux_div_h_int_v(\n",
    "                f_x,\n",
    "                f_y,\n",
    "                rho,\n",
    "                weight_opt=\"before\",\n",
    "                const=runs[sim_label].const,\n",
    "                truncation=None,\n",
    "            )\n",
    "            RESULTS[sim_label][mse_key][wind_key] *= -1  # Convert to convergence\n",
    "            RESULTS[sim_label][mse_key][wind_key].convert_units(\"W m^-2\")"
   ]
  },
  {
   "cell_type": "markdown",
   "id": "0c8e1ba6-eb8f-4f9f-acc2-1bfaeac42bc0",
   "metadata": {},
   "source": [
    "## Create the figure"
   ]
  },
  {
   "cell_type": "code",
   "execution_count": null,
   "id": "a3c1fe78-b385-4b89-a946-3c2a95241331",
   "metadata": {},
   "outputs": [],
   "source": [
    "mse_key = \"mse\"\n",
    "title = \"Moist static energy budget\"\n",
    "# mse_key = \"lse\"\n",
    "# title = \"Moist static energy budget: latent component\"\n",
    "\n",
    "imgname = f\"{img_prefix}__{'_'.join(SIM_LABELS.keys())}__tmm_rot_div_flux_{mse_key}__tot_rot\"  # __with_rho_residual\n",
    "\n",
    "ncols = len(SIM_LABELS)\n",
    "nrows = 1\n",
    "\n",
    "fig, axs = plt.subplots(\n",
    "    ncols=ncols,\n",
    "    nrows=nrows,\n",
    "    figsize=(16, 4),\n",
    "    gridspec_kw=dict(hspace=0.3, wspace=0.15),\n",
    "    squeeze=False,\n",
    ")\n",
    "\n",
    "iletters = subplot_label_generator()\n",
    "for ax in axs.flat:\n",
    "    ax.set_title(f\"{next(iletters)}\", **KW_SBPLT_LABEL)\n",
    "    ax.axhline(0, **KW_ZERO_LINE)\n",
    "    for _lon in [-90, 0, 90]:\n",
    "        ax.axvline(_lon, **KW_ZERO_LINE)\n",
    "    # ax.set_ylim(-350, 350)\n",
    "    ax.set_ylim(-500, 500)\n",
    "    ax.set_xlim(-180, 180)\n",
    "    ax.set_xticks(XLOCS)\n",
    "    if ax.is_first_col():\n",
    "        ax.set_ylabel(\"Energy flux [$W$ $m^{-2}$]\", fontsize=\"medium\")\n",
    "    # if ax.is_last_row():\n",
    "    ax.set_xlabel(\"Longitude [$\\degree$]\", fontsize=\"medium\")\n",
    "\n",
    "for (sim_label, sim_prop), axcol in zip(SIM_LABELS.items(), axs.T):\n",
    "    axcol[0].set_title(sim_prop[\"title\"], **KW_MAIN_TTL)\n",
    "\n",
    "    ax = axcol[0]\n",
    "    for wind_key, wind_meta in WIND_CMPNT_META.items():\n",
    "        ax.plot(\n",
    "            RESULTS[sim_label][\"lons\"],\n",
    "            RESULTS[sim_label][mse_key][wind_key].data,\n",
    "            **wind_meta[\"kw_plt\"],\n",
    "        )\n",
    "    ax.plot(\n",
    "        RESULTS[sim_label][\"lons\"],\n",
    "        RESULTS[sim_label][\"toa_net\"].data,\n",
    "        color=\"C1\",\n",
    "    )\n",
    "    if mse_key == \"mse\":\n",
    "        ax.plot(\n",
    "            RESULTS[sim_label][\"lons\"],\n",
    "            RESULTS[sim_label][\"toa_net\"].data\n",
    "            + RESULTS[sim_label][mse_key][\"total\"].data,\n",
    "            linestyle=\"--\",\n",
    "            color=\"k\",\n",
    "        )\n",
    "add_custom_legend(\n",
    "    fig,\n",
    "    {\n",
    "        **{\"TOA net energy flux\": {\"color\": \"C1\"}},\n",
    "        **{v[\"title\"]: v[\"kw_plt\"] for v in WIND_CMPNT_META.values()},\n",
    "        **{\"Residual\": {\"linestyle\": \"--\", \"color\": \"k\"}},\n",
    "    },\n",
    "    title=title,\n",
    "    loc=\"upper center\",\n",
    "    bbox_to_anchor=(0.5, 1.25),\n",
    "    frameon=False,\n",
    "    ncol=3,\n",
    ")\n",
    "\n",
    "plt.close()"
   ]
  },
  {
   "cell_type": "markdown",
   "id": "e4000a87-5c6b-439c-bd83-5550f0fabc8f",
   "metadata": {},
   "source": [
    "# Show the figure"
   ]
  },
  {
   "cell_type": "code",
   "execution_count": null,
   "id": "02102d0c-e80d-4b12-a26d-ea99deb52e3a",
   "metadata": {},
   "outputs": [],
   "source": [
    "fig"
   ]
  },
  {
   "cell_type": "markdown",
   "id": "fc28ca2f-1d26-45bd-8081-57cf1c4dff7e",
   "metadata": {},
   "source": [
    "* **The steady state moist static energy (MSE) budget for the (a) _Base_ (SJ regime) and (b) _T0\\_280_ (DJ regime) simulations.**"
   ]
  },
  {
   "cell_type": "markdown",
   "id": "0d781437-c402-4905-917e-5e078e681647",
   "metadata": {},
   "source": [
    "### Background theory (see Hammond & Lewis, 2021)"
   ]
  },
  {
   "cell_type": "markdown",
   "id": "51efe82c-23f7-4e6d-8d03-275e647fa7b7",
   "metadata": {},
   "source": [
    "$s = c_p T + gz + L q$\n",
    "\n",
    "$\\langle\\nabla \\cdot s \\mathbf{u}\\rangle+F_{\\mathrm{ISR}}-F_{\\mathrm{OSR}}-F_{\\mathrm{OLR}}=0$\n",
    "\n",
    "Why does divergent dominate?\n",
    "$$\n",
    "\\nabla_{p} \\cdot s \\boldsymbol{u}=s \\nabla_{p} \\cdot \\boldsymbol{u}+\\boldsymbol{u} \\cdot \\nabla_{p} s\n",
    "$$\n",
    "Slowly rotating terrestrial planet:\n",
    "WTG regime, which means\n",
    "$$\n",
    "\\nabla_{p} s \\approx 0\n",
    "$$\n",
    "so that\n",
    "$$\n",
    "\\nabla_{p} \\cdot s \\boldsymbol{u} \\approx s \\nabla_{p} \\cdot \\boldsymbol{u}=s \\nabla_{p} \\cdot \\boldsymbol{u}_{\\mathrm{D}}\n",
    "$$"
   ]
  },
  {
   "cell_type": "markdown",
   "id": "572b4ee4-1575-4e6c-9abc-48e25d48c12a",
   "metadata": {},
   "source": [
    "See also: https://exoclim.github.io/aeolus/examples/04_Rotational_And_Divergent_Winds.html"
   ]
  },
  {
   "cell_type": "code",
   "execution_count": 15,
   "id": "a07ee58f-14e1-4b28-8d27-84907d11763e",
   "metadata": {},
   "outputs": [
    {
     "name": "stdout",
     "output_type": "stream",
     "text": [
      "Saved to ../plots/ch111_mean/ch111_mean__base_sens-t280k__rotdiv_300hpa.png\n"
     ]
    }
   ],
   "source": [
    "figsave(fig, plotdir / imgname)"
   ]
  }
 ],
 "metadata": {
  "kernelspec": {
   "display_name": "Python [conda env:t1e_bistability]",
   "language": "python",
   "name": "conda-env-t1e_bistability-py"
  },
  "language_info": {
   "codemirror_mode": {
    "name": "ipython",
    "version": 3
   },
   "file_extension": ".py",
   "mimetype": "text/x-python",
   "name": "python",
   "nbconvert_exporter": "python",
   "pygments_lexer": "ipython3",
   "version": "3.10.5"
  }
 },
 "nbformat": 4,
 "nbformat_minor": 5
}
